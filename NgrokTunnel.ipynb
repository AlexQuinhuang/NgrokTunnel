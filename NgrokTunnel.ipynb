{
  "nbformat": 4,
  "nbformat_minor": 0,
  "metadata": {
    "colab": {
      "provenance": []
    },
    "kernelspec": {
      "name": "python3",
      "display_name": "Python 3"
    },
    "language_info": {
      "name": "python"
    }
  },
  "cells": [
    {
      "cell_type": "code",
      "source": [
        "# Step 1: Install libraries\n",
        "!pip install streamlit pyngrok -q"
      ],
      "metadata": {
        "id": "GtpCgcmU4qix"
      },
      "execution_count": 5,
      "outputs": []
    },
    {
      "cell_type": "code",
      "source": [
        "# Step 2: Create the Streamlit app file\n",
        "%%writefile app.py\n",
        "import streamlit as st\n",
        "import pandas as pd\n",
        "\n",
        "st.set_page_config(page_title=\"Colab App\", layout=\"wide\")\n",
        "\n",
        "st.title(\"My First Streamlit Web App\")\n",
        "st.header(\"Streamlit Demo on Google Colab\")\n",
        "st.write(\"This app is running live from a Google Colab notebook.\")\n",
        "\n",
        "st.sidebar.header(\"User Input Section\")\n",
        "name = st.sidebar.text_input(\"Enter your name:\")\n",
        "if name:\n",
        "    st.write(f\"### Welcome, {name}!\")\n",
        "\n",
        "age = st.sidebar.slider(\"Select your age\", 0, 100, 25)\n",
        "st.sidebar.write(f\"Your selected age: **{age}**\")\n",
        "\n",
        "if st.checkbox(\"Do you want to see a sample DataFrame?\"):\n",
        "    st.subheader(\"Sample Data\")\n",
        "    chart_data = pd.DataFrame({\n",
        "        'Serial': range(1, 6),\n",
        "        'Value': [20, 55, 60, 35, 80]\n",
        "    })\n",
        "    st.dataframe(chart_data)\n",
        "    st.line_chart(chart_data.set_index('Serial'))"
      ],
      "metadata": {
        "colab": {
          "base_uri": "https://localhost:8080/"
        },
        "id": "EJ7vbIAG4dyJ",
        "outputId": "f7e305f8-be6f-4ce9-94dd-395e98a2e890"
      },
      "execution_count": 6,
      "outputs": [
        {
          "output_type": "stream",
          "name": "stdout",
          "text": [
            "Overwriting app.py\n"
          ]
        }
      ]
    },
    {
      "cell_type": "code",
      "source": [
        "# Step 3: Run the app and create a public URL\n",
        "from pyngrok import ngrok\n",
        "import threading\n",
        "import time\n",
        "import subprocess\n",
        "\n",
        "# --- Ngrok Authentication ---\n",
        "authtoken = \"2sf6Qmd8J93opYyaIwKklys3WyG_7WKAvYUREQQJXtJbVZHk5\"  # <-- Replace with your ngrok token\n",
        "if authtoken == \"YOUR_NGROK_AUTHTOKEN_HERE\":\n",
        "    print(\"\\nPlease replace the `authtoken` variable above with your own ngrok token.\")\n",
        "    print(\"To get a token, visit: https://dashboard.ngrok.com/get-started/your-authtoken\")\n",
        "else:\n",
        "    ngrok.set_auth_token(authtoken)\n",
        "\n",
        "    # --- Run Streamlit in a separate thread ---\n",
        "    def run_streamlit():\n",
        "        # Command to run Streamlit\n",
        "        command = \"streamlit run app.py --server.port 8501 --server.headless true\"\n",
        "        process = subprocess.Popen(command.split(), stdout=subprocess.PIPE, stderr=subprocess.PIPE)\n",
        "        stdout, stderr = process.communicate()\n",
        "        print(stdout.decode())\n",
        "        print(stderr.decode())\n",
        "\n",
        "    # Run the function in a thread to prevent the Colab cell from being blocked\n",
        "    streamlit_thread = threading.Thread(target=run_streamlit)\n",
        "    streamlit_thread.start()\n",
        "\n",
        "    # Wait a few seconds for the server to start\n",
        "    time.sleep(5)\n",
        "\n",
        "    # --- Create the ngrok tunnel ---\n",
        "    public_url = ngrok.connect(8501)\n",
        "    print(\"🎉 Your Streamlit app is ready!\")\n",
        "    print(\"👇 Click the public link below to access your live app:\")\n",
        "    print(public_url)"
      ],
      "metadata": {
        "colab": {
          "base_uri": "https://localhost:8080/"
        },
        "id": "PGEM3el7Cuu8",
        "outputId": "8364f8c4-6072-4b74-b899-3d9f1e0efe6d"
      },
      "execution_count": 7,
      "outputs": [
        {
          "output_type": "stream",
          "name": "stdout",
          "text": [
            "\n",
            "Collecting usage statistics. To deactivate, set browser.gatherUsageStats to false.\n",
            "\n",
            "\n",
            "2025-06-08 14:56:59.835 Port 8501 is already in use\n",
            "\n",
            "🎉 Your Streamlit app is ready!\n",
            "👇 Click the public link below to access your live app:\n",
            "NgrokTunnel: \"https://04ee-34-85-174-31.ngrok-free.app\" -> \"http://localhost:8501\"\n"
          ]
        }
      ]
    }
  ]
}